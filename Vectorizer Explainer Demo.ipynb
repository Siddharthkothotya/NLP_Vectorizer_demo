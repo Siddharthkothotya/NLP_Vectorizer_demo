{
 "cells": [
  {
   "cell_type": "markdown",
   "id": "d23da1cc",
   "metadata": {},
   "source": [
    "# A Interactive Vectorizer Demo"
   ]
  },
  {
   "cell_type": "code",
   "execution_count": 12,
   "id": "9e001b70",
   "metadata": {},
   "outputs": [],
   "source": [
    "from sklearn.feature_extraction.text import CountVectorizer\n",
    "import pandas as pd\n",
    "\n",
    "from ipywidgets import interact, interactive, fixed, interact_manual\n",
    "import ipywidgets as widgets\n",
    "\n",
    "\n",
    "# Creating a function out of it \n",
    "def calculate_matrix(a):\n",
    "\n",
    "    # document = [\"One Geek helps Two Geeks\",\n",
    "    # \t\t\t\"Two Geeks help Four Geeks\",\n",
    "    # \t\t\t\"Each Geek helps many other Geeks at GeeksforGeeks\"]\n",
    "    \n",
    "    a = a.split(',')\n",
    "    \n",
    "    # Create a Vectorizer Object\n",
    "    vectorizer = CountVectorizer()\n",
    "    vectorizer.fit(a)\n",
    "\n",
    "    # Encode the Document\n",
    "    vector = vectorizer.transform(a)\n",
    "\n",
    "    # Summarizing the Encoded Texts\n",
    "    df = pd.DataFrame(vector.toarray(), columns = vectorizer.get_feature_names())\n",
    "\n",
    "    # Returning the df\n",
    "    return df\n",
    "\n",
    "# A demo\n",
    "# calculate_matrix(\"One Geek helps Two Geeks,Two Geeks help Four Geeks,Each Geek helps many other Geeks at GeeksforGeeks\")"
   ]
  },
  {
   "cell_type": "markdown",
   "id": "d788f93f",
   "metadata": {},
   "source": [
    "# A Interactive Count Vectorizer"
   ]
  },
  {
   "cell_type": "code",
   "execution_count": 13,
   "id": "81721a06",
   "metadata": {},
   "outputs": [
    {
     "data": {
      "application/vnd.jupyter.widget-view+json": {
       "model_id": "10e8535092f44aa2b56338c24f658fcb",
       "version_major": 2,
       "version_minor": 0
      },
      "text/plain": [
       "interactive(children=(Text(value='This is a sentence, Use commas to seperate a sentence', description='a'), Ou…"
      ]
     },
     "metadata": {},
     "output_type": "display_data"
    },
    {
     "data": {
      "text/plain": [
       "<function __main__.calculate_matrix(a)>"
      ]
     },
     "execution_count": 13,
     "metadata": {},
     "output_type": "execute_result"
    }
   ],
   "source": [
    "interact(calculate_matrix, a=\"This is a sentence, Use commas to seperate a sentence\")"
   ]
  },
  {
   "cell_type": "markdown",
   "id": "279fbe76",
   "metadata": {},
   "source": [
    "---"
   ]
  },
  {
   "cell_type": "code",
   "execution_count": 14,
   "id": "1f609c38",
   "metadata": {},
   "outputs": [],
   "source": [
    "from sklearn.feature_extraction.text import TfidfVectorizer\n",
    "import pandas as pd\n",
    "\n",
    "from ipywidgets import interact, interactive, fixed, interact_manual\n",
    "import ipywidgets as widgets\n",
    "\n",
    "\n",
    "# Creating a function out of it \n",
    "def calculate_matrix_tfidf(a):\n",
    "\n",
    "    # document = [\"One Geek helps Two Geeks\",\n",
    "    # \t\t\t\"Two Geeks help Four Geeks\",\n",
    "    # \t\t\t\"Each Geek helps many other Geeks at GeeksforGeeks\"]\n",
    "    \n",
    "    a = a.split(',')\n",
    "    \n",
    "    # Create a Vectorizer Object\n",
    "    vectorizer = TfidfVectorizer()\n",
    "    vectorizer.fit(a)\n",
    "\n",
    "    # Encode the Document\n",
    "    vector = vectorizer.transform(a)\n",
    "\n",
    "    # Summarizing the Encoded Texts\n",
    "    df = pd.DataFrame(vector.toarray(), columns = vectorizer.get_feature_names())\n",
    "\n",
    "    # Returning the df\n",
    "    return df\n"
   ]
  },
  {
   "cell_type": "markdown",
   "id": "c14624a9",
   "metadata": {},
   "source": [
    "# A Interactive TF-IDF Vectorizer"
   ]
  },
  {
   "cell_type": "code",
   "execution_count": 15,
   "id": "a63b51d0",
   "metadata": {},
   "outputs": [
    {
     "data": {
      "application/vnd.jupyter.widget-view+json": {
       "model_id": "96173ba2a60747cfbf2d47869ff63dfd",
       "version_major": 2,
       "version_minor": 0
      },
      "text/plain": [
       "interactive(children=(Text(value='This is a sentence, Use commas to seperate a sentence', description='a'), Ou…"
      ]
     },
     "metadata": {},
     "output_type": "display_data"
    },
    {
     "data": {
      "text/plain": [
       "<function __main__.calculate_matrix_tfidf(a)>"
      ]
     },
     "execution_count": 15,
     "metadata": {},
     "output_type": "execute_result"
    }
   ],
   "source": [
    "interact(calculate_matrix_tfidf, a=\"This is a sentence, Use commas to seperate a sentence\")"
   ]
  },
  {
   "cell_type": "code",
   "execution_count": null,
   "id": "cc03be65",
   "metadata": {},
   "outputs": [],
   "source": []
  },
  {
   "cell_type": "code",
   "execution_count": null,
   "id": "babaa521",
   "metadata": {},
   "outputs": [],
   "source": []
  },
  {
   "cell_type": "code",
   "execution_count": null,
   "id": "198a42e6",
   "metadata": {},
   "outputs": [],
   "source": []
  }
 ],
 "metadata": {
  "kernelspec": {
   "display_name": "Python 3 (ipykernel)",
   "language": "python",
   "name": "python3"
  },
  "language_info": {
   "codemirror_mode": {
    "name": "ipython",
    "version": 3
   },
   "file_extension": ".py",
   "mimetype": "text/x-python",
   "name": "python",
   "nbconvert_exporter": "python",
   "pygments_lexer": "ipython3",
   "version": "3.9.7"
  }
 },
 "nbformat": 4,
 "nbformat_minor": 5
}
